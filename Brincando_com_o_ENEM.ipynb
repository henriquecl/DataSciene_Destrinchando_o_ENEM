{
  "nbformat": 4,
  "nbformat_minor": 0,
  "metadata": {
    "colab": {
      "name": "Brincando_com_o_ENEM.ipynb",
      "provenance": [],
      "collapsed_sections": [
        "afXuTfFpod21",
        "XzIWeiqXsXMX",
        "GOjIES_Koj_h",
        "Smspb-67MrHT",
        "F1pFZTjO53nE",
        "DMeOvOIdErA2",
        "y0oxoYmGW7oK",
        "viC9IZ4RWyfk",
        "tSADujD8-Bg_"
      ],
      "mount_file_id": "1CyGJt-IRX5oVhT9seL3jJSRW5NYBeKUr",
      "authorship_tag": "ABX9TyPIcCOd9/qzYBT5tPLp6jlh",
      "include_colab_link": true
    },
    "kernelspec": {
      "name": "python3",
      "display_name": "Python 3"
    }
  },
  "cells": [
    {
      "cell_type": "markdown",
      "metadata": {
        "id": "view-in-github",
        "colab_type": "text"
      },
      "source": [
        "<a href=\"https://colab.research.google.com/github/henriquecl/Destrinchando_o_ENEM/blob/main/Brincando_com_o_ENEM.ipynb\" target=\"_parent\"><img src=\"https://colab.research.google.com/assets/colab-badge.svg\" alt=\"Open In Colab\"/></a>"
      ]
    },
    {
      "cell_type": "markdown",
      "metadata": {
        "id": "afXuTfFpod21"
      },
      "source": [
        "## Declaração das biblíotecas utilizadas no projeto."
      ]
    },
    {
      "cell_type": "code",
      "metadata": {
        "id": "MsHSWjqTsf_R"
      },
      "source": [
        "import pandas as pd\n",
        "import chardet   \n",
        "import matplotlib.pyplot as plt\n",
        "import numpy as np\n",
        "import seaborn as sns\n",
        "\n",
        "# Utilizada para identificar o tipo de encoding do dataset\n",
        "#with open(\"/content/drive/My Drive/Dados_ENEM/dados10.csv\", 'rb') as rawdata:\n",
        "#    result = chardet.detect(rawdata.read(100000))\n",
        "#print(result)"
      ],
      "execution_count": 177,
      "outputs": []
    },
    {
      "cell_type": "markdown",
      "metadata": {
        "id": "XzIWeiqXsXMX"
      },
      "source": [
        "## Leitura dos DataSets \n",
        "### ** Adendo: Os datasets estão separados em 10 arquivos diferentes pois foi a maneira cujo o Colab leu os arquivos corretamente."
      ]
    },
    {
      "cell_type": "code",
      "metadata": {
        "id": "0kAMUAhxF1o-"
      },
      "source": [
        "df_zero = pd.read_csv('/content/drive/My Drive/Dados_ENEM/dados00.csv', encoding='ISO-8859-1')\n",
        "df_um = pd.read_csv('/content/drive/My Drive/Dados_ENEM/dados01.csv', encoding='ISO-8859-1')\n",
        "df_dois = pd.read_csv('/content/drive/My Drive/Dados_ENEM/dados02.csv', encoding='ISO-8859-1')\n",
        "df_tres = pd.read_csv('/content/drive/My Drive/Dados_ENEM/dados03.csv', encoding='ISO-8859-1')\n",
        "df_quatro = pd.read_csv('/content/drive/My Drive/Dados_ENEM/dados04.csv', encoding='ISO-8859-1')\n",
        "df_cinco = pd.read_csv('/content/drive/My Drive/Dados_ENEM/dados05.csv', encoding='ISO-8859-1')\n",
        "df_seis = pd.read_csv('/content/drive/My Drive/Dados_ENEM/dados06.csv', encoding='ISO-8859-1')\n",
        "df_sete = pd.read_csv('/content/drive/My Drive/Dados_ENEM/dados07.csv', encoding='ISO-8859-1')\n",
        "df_oito = pd.read_csv('/content/drive/My Drive/Dados_ENEM/dados08.csv', encoding='ISO-8859-1')\n",
        "df_nove = pd.read_csv('/content/drive/My Drive/Dados_ENEM/dados09.csv', encoding='ISO-8859-1')\n",
        "df_dez = pd.read_csv('/content/drive/My Drive/Dados_ENEM/dados10.csv', encoding='ISO-8859-1')\n",
        "\n",
        "# Informando quais colunas dos DataSets cuja serão utilizadas\n",
        "lista_colunas_desejadas = ['NU_IDADE','TP_SEXO','TP_COR_RACA','TP_ST_CONCLUSAO','TP_ESCOLA','IN_TREINEIRO','SG_UF_PROVA','TP_PRESENCA_CN',\n",
        "'TP_PRESENCA_CH' ,'TP_PRESENCA_LC' ,'TP_PRESENCA_MT', 'NU_NOTA_CN' ,'NU_NOTA_CH', 'NU_NOTA_LC' ,'NU_NOTA_MT','NU_NOTA_REDACAO','Q001' ,'Q002','Q003','Q004' ,'Q005',\n",
        " 'Q006', 'Q007', 'Q008' ,'Q009' ,'Q010' ,'Q011', 'Q012' ,'Q013', 'Q014', 'Q015',\n",
        " 'Q016' ,'Q017' ,'Q018' ,'Q019', 'Q020', 'Q021' ,'Q022', 'Q023' ,'Q024' ,'Q025']\n",
        "\n",
        "\n",
        "\n",
        "\n"
      ],
      "execution_count": 2,
      "outputs": []
    },
    {
      "cell_type": "markdown",
      "metadata": {
        "id": "GOjIES_Koj_h"
      },
      "source": [
        "## Filtrando os dados das respectivas regiões e criando .csv para cada uma."
      ]
    },
    {
      "cell_type": "markdown",
      "metadata": {
        "id": "RJ5Z9pA4oqQ3"
      },
      "source": [
        "### Norte"
      ]
    },
    {
      "cell_type": "code",
      "metadata": {
        "id": "ssXv34gaoXYW"
      },
      "source": [
        "texto_N = \"SG_UF_PROVA == 'AM' or SG_UF_PROVA == 'RR' or SG_UF_PROVA == 'AP' or SG_UF_PROVA == 'PA' or SG_UF_PROVA == 'TO' or SG_UF_PROVA == 'RO' or SG_UF_PROVA == 'AC'\"\n",
        "df_zero_N = df_zero.query(texto_N)\n",
        "df_zero_N_filtrada = df_zero_N[lista_colunas_desejadas]\n",
        "df_um_N = df_um.query(texto_N)\n",
        "df_um_N_filtrada = df_um_N[lista_colunas_desejadas]\n",
        "df_dois_N = df_dois.query(texto_N)\n",
        "df_dois_N_filtrada = df_dois_N[lista_colunas_desejadas]\n",
        "df_tres_N = df_tres.query(texto_N)\n",
        "df_tres_N_filtrada = df_tres_N[lista_colunas_desejadas]\n",
        "df_quatro_N = df_quatro.query(texto_N)\n",
        "df_quatro_N_filtrada = df_quatro_N[lista_colunas_desejadas]\n",
        "df_cinco_N = df_cinco.query(texto_N)\n",
        "df_cinco_N_filtrada = df_cinco_N[lista_colunas_desejadas]\n",
        "df_seis_N = df_seis.query(texto_N)\n",
        "df_seis_N_filtrada = df_seis_N[lista_colunas_desejadas]\n",
        "df_sete_N = df_sete.query(texto_N)\n",
        "df_sete_N_filtrada = df_sete_N[lista_colunas_desejadas]\n",
        "df_oito_N = df_oito.query(texto_N)\n",
        "df_oito_N_filtrada = df_oito_N[lista_colunas_desejadas]\n",
        "df_nove_N = df_nove.query(texto_N)\n",
        "df_nove_N_filtrada = df_nove_N[lista_colunas_desejadas]\n",
        "df_dez_N = df_dez.query(texto_N)\n",
        "df_dez_N_filtrada = df_dez_N[lista_colunas_desejadas]\n",
        "data_N = pd.concat([df_zero_N_filtrada, df_um_N_filtrada, df_dois_N_filtrada,df_tres_N_filtrada,\n",
        "                    df_quatro_N_filtrada, df_cinco_N_filtrada,df_seis_N_filtrada, df_sete_N_filtrada, df_oito_N_filtrada,df_nove_N_filtrada,df_dez_N_filtrada]) \n",
        "data_N.to_csv(\"DadosNorte.csv\")\n",
        "\n",
        "\n",
        "\n",
        "\n",
        "#data_zero_quatro_N = pd.concat([df_zero_N, df_um_N, df_dois_N, df_tres_N, df_quatro_N])\n",
        "#data_zero_quatro_N.to_csv(\"Dados0a4N.csv\")"
      ],
      "execution_count": 5,
      "outputs": []
    },
    {
      "cell_type": "markdown",
      "metadata": {
        "id": "O9sBqHo4owMC"
      },
      "source": [
        "### Nordeste"
      ]
    },
    {
      "cell_type": "code",
      "metadata": {
        "id": "mZ5OydUboVeZ"
      },
      "source": [
        "texto_NE = \"SG_UF_PROVA == 'AL' or SG_UF_PROVA == 'BA' or SG_UF_PROVA == 'CE' or SG_UF_PROVA == 'MA' or SG_UF_PROVA == 'PB' or SG_UF_PROVA == 'PE' or SG_UF_PROVA == 'PI' or SG_UF_PROVA == 'RN ' or SG_UF_PROVA == 'SE'\"\n",
        "df_zero_NE = df_zero.query(texto_NE)\n",
        "df_zero_NE_filtrada = df_zero_NE[lista_colunas_desejadas]\n",
        "df_um_NE = df_um.query(texto_NE)\n",
        "df_um_NE_filtrada = df_um_NE[lista_colunas_desejadas]\n",
        "df_dois_NE = df_dois.query(texto_NE)\n",
        "df_dois_NE_filtrada = df_dois_NE[lista_colunas_desejadas]\n",
        "df_tres_NE = df_tres.query(texto_NE)\n",
        "df_tres_NE_filtrada = df_tres_NE[lista_colunas_desejadas]\n",
        "df_quatro_NE = df_quatro.query(texto_NE)\n",
        "df_quatro_NE_filtrada = df_quatro_NE[lista_colunas_desejadas]\n",
        "df_cinco_NE = df_cinco.query(texto_NE)\n",
        "df_cinco_NE_filtrada = df_cinco_NE[lista_colunas_desejadas]\n",
        "df_seis_NE = df_seis.query(texto_NE)\n",
        "df_seis_NE_filtrada = df_seis_NE[lista_colunas_desejadas]\n",
        "df_sete_NE = df_sete.query(texto_NE)\n",
        "df_sete_NE_filtrada = df_sete_NE[lista_colunas_desejadas]\n",
        "df_oito_NE = df_oito.query(texto_NE)\n",
        "df_oito_NE_filtrada = df_oito_NE[lista_colunas_desejadas]\n",
        "df_nove_NE = df_nove.query(texto_NE)\n",
        "df_nove_NE_filtrada = df_nove_NE[lista_colunas_desejadas]\n",
        "df_dez_NE = df_dez.query(texto_NE)\n",
        "df_dez_NE_filtrada = df_dez_NE[lista_colunas_desejadas]\n",
        "data_NE = pd.concat([df_zero_NE_filtrada, df_um_NE_filtrada, df_dois_NE_filtrada,df_tres_NE_filtrada,\n",
        "                    df_quatro_NE_filtrada, df_cinco_NE_filtrada,df_seis_NE_filtrada, df_sete_NE_filtrada, df_oito_NE_filtrada,df_nove_NE_filtrada,df_dez_NE_filtrada]) \n",
        "data_NE.to_csv(\"DadosNordeste.csv\")\n",
        "\n",
        "\n"
      ],
      "execution_count": 3,
      "outputs": []
    },
    {
      "cell_type": "markdown",
      "metadata": {
        "id": "n2YSZwo3s556"
      },
      "source": [
        "###Centro-Oeste + DF"
      ]
    },
    {
      "cell_type": "code",
      "metadata": {
        "id": "UXWrARQHs_C5"
      },
      "source": [
        "texto_CO = \"SG_UF_PROVA == 'MT' or SG_UF_PROVA == 'MS' or SG_UF_PROVA == 'GO' or SG_UF_PROVA == 'DF'\"\n",
        "\n",
        "df_zero_CO = df_zero.query(texto_CO)\n",
        "df_zero_CO_filtrada = df_zero_CO[lista_colunas_desejadas]\n",
        "df_um_CO = df_um.query(texto_CO)\n",
        "df_um_CO_filtrada = df_um_CO[lista_colunas_desejadas]\n",
        "df_dois_CO = df_dois.query(texto_CO)\n",
        "df_dois_CO_filtrada = df_dois_CO[lista_colunas_desejadas]\n",
        "df_tres_CO = df_tres.query(texto_CO)\n",
        "df_tres_CO_filtrada = df_tres_CO[lista_colunas_desejadas]\n",
        "df_quatro_CO = df_quatro.query(texto_CO)\n",
        "df_quatro_CO_filtrada = df_quatro_CO[lista_colunas_desejadas]\n",
        "df_cinco_CO = df_cinco.query(texto_CO)\n",
        "df_cinco_CO_filtrada = df_cinco_CO[lista_colunas_desejadas]\n",
        "df_seis_CO = df_seis.query(texto_CO)\n",
        "df_seis_CO_filtrada = df_seis_CO[lista_colunas_desejadas]\n",
        "df_sete_CO = df_sete.query(texto_CO)\n",
        "df_sete_CO_filtrada = df_sete_CO[lista_colunas_desejadas]\n",
        "df_oito_CO = df_oito.query(texto_CO)\n",
        "df_oito_CO_filtrada = df_oito_CO[lista_colunas_desejadas]\n",
        "df_nove_CO = df_nove.query(texto_CO)\n",
        "df_nove_CO_filtrada = df_nove_CO[lista_colunas_desejadas]\n",
        "df_dez_CO = df_dez.query(texto_CO)\n",
        "df_dez_CO_filtrada = df_dez_CO[lista_colunas_desejadas]\n",
        "data_CO = pd.concat([df_zero_CO_filtrada, df_um_CO_filtrada, df_dois_CO_filtrada,df_tres_CO_filtrada,\n",
        "                    df_quatro_CO_filtrada, df_cinco_CO_filtrada,df_seis_CO_filtrada, df_sete_CO_filtrada, df_oito_CO_filtrada,df_nove_CO_filtrada,df_dez_CO_filtrada]) \n",
        "data_CO.to_csv(\"DadosCentroOeste.csv\")\n"
      ],
      "execution_count": 4,
      "outputs": []
    },
    {
      "cell_type": "markdown",
      "metadata": {
        "id": "dR_3Nz7itzmv"
      },
      "source": [
        "### Sudeste"
      ]
    },
    {
      "cell_type": "code",
      "metadata": {
        "id": "-1qCTz-Wt2np"
      },
      "source": [
        "texto_SE = \"SG_UF_PROVA == 'SP' or SG_UF_PROVA == 'RJ' or SG_UF_PROVA == 'ES' or SG_UF_PROVA == 'MG'\"\n",
        "\n",
        "\n",
        "df_zero_SE = df_zero.query(texto_SE)\n",
        "df_zero_SE_filtrada = df_zero_SE[lista_colunas_desejadas]\n",
        "df_um_SE = df_um.query(texto_SE)\n",
        "df_um_SE_filtrada = df_um_SE[lista_colunas_desejadas]\n",
        "df_dois_SE = df_dois.query(texto_SE)\n",
        "df_dois_SE_filtrada = df_dois_SE[lista_colunas_desejadas]\n",
        "df_tres_SE = df_tres.query(texto_SE)\n",
        "df_tres_SE_filtrada = df_tres_SE[lista_colunas_desejadas]\n",
        "df_quatro_SE = df_quatro.query(texto_SE)\n",
        "df_quatro_SE_filtrada = df_quatro_SE[lista_colunas_desejadas]\n",
        "df_cinco_SE = df_cinco.query(texto_SE)\n",
        "df_cinco_SE_filtrada = df_cinco_SE[lista_colunas_desejadas]\n",
        "df_seis_SE = df_seis.query(texto_SE)\n",
        "df_seis_SE_filtrada = df_seis_SE[lista_colunas_desejadas]\n",
        "df_sete_SE = df_sete.query(texto_SE)\n",
        "df_sete_SE_filtrada = df_sete_SE[lista_colunas_desejadas]\n",
        "df_oito_SE = df_oito.query(texto_SE)\n",
        "df_oito_SE_filtrada = df_oito_SE[lista_colunas_desejadas]\n",
        "df_nove_SE = df_nove.query(texto_SE)\n",
        "df_nove_SE_filtrada = df_nove_SE[lista_colunas_desejadas]\n",
        "df_dez_SE = df_dez.query(texto_SE)\n",
        "df_dez_SE_filtrada = df_dez_SE[lista_colunas_desejadas]\n",
        "\n",
        "\n",
        "data_SE = pd.concat([df_zero_SE_filtrada, df_um_SE_filtrada, df_dois_SE_filtrada,df_tres_SE_filtrada,\n",
        "                    df_quatro_SE_filtrada, df_cinco_SE_filtrada,df_seis_SE_filtrada, df_sete_SE_filtrada, df_oito_SE_filtrada,df_nove_SE_filtrada,df_dez_SE_filtrada]) \n",
        "data_SE.to_csv(\"DadosSudeste.csv\")\n"
      ],
      "execution_count": 3,
      "outputs": []
    },
    {
      "cell_type": "markdown",
      "metadata": {
        "id": "tqodhlzDvjPb"
      },
      "source": [
        "### Sul"
      ]
    },
    {
      "cell_type": "code",
      "metadata": {
        "id": "DymPqCjqvkbC"
      },
      "source": [
        "texto_S = \"SG_UF_PROVA == 'PR' or SG_UF_PROVA == 'RS' or SG_UF_PROVA == 'SC'\"\n",
        "\n",
        "df_zero_S = df_zero.query(texto_S)\n",
        "df_zero_S_filtrada = df_zero_S[lista_colunas_desejadas]\n",
        "df_um_S = df_um.query(texto_S)\n",
        "df_um_S_filtrada = df_um_S[lista_colunas_desejadas]\n",
        "df_dois_S = df_dois.query(texto_S)\n",
        "df_dois_S_filtrada = df_dois_S[lista_colunas_desejadas]\n",
        "df_tres_S = df_tres.query(texto_S)\n",
        "df_tres_S_filtrada = df_tres_S[lista_colunas_desejadas]\n",
        "df_quatro_S = df_quatro.query(texto_S)\n",
        "df_quatro_S_filtrada = df_quatro_S[lista_colunas_desejadas]\n",
        "df_cinco_S = df_cinco.query(texto_S)\n",
        "df_cinco_S_filtrada = df_cinco_S[lista_colunas_desejadas]\n",
        "df_seis_S = df_seis.query(texto_S)\n",
        "df_seis_S_filtrada = df_seis_S[lista_colunas_desejadas]\n",
        "df_sete_S = df_sete.query(texto_S)\n",
        "df_sete_S_filtrada = df_sete_S[lista_colunas_desejadas]\n",
        "df_oito_S = df_oito.query(texto_S)\n",
        "df_oito_S_filtrada = df_oito_S[lista_colunas_desejadas]\n",
        "df_nove_S = df_nove.query(texto_S)\n",
        "df_nove_S_filtrada = df_nove_S[lista_colunas_desejadas]\n",
        "df_dez_S = df_dez.query(texto_S)\n",
        "df_dez_S_filtrada = df_dez_S[lista_colunas_desejadas]\n",
        "\n",
        "data_S = pd.concat([df_zero_S_filtrada, df_um_S_filtrada, df_dois_S_filtrada,df_tres_S_filtrada,\n",
        "                    df_quatro_S_filtrada, df_cinco_S_filtrada,df_seis_S_filtrada, df_sete_S_filtrada, df_oito_S_filtrada,df_nove_S_filtrada,df_dez_S_filtrada]) \n",
        "data_S.to_csv(\"DadosSul.csv\")"
      ],
      "execution_count": 6,
      "outputs": []
    },
    {
      "cell_type": "markdown",
      "metadata": {
        "id": "2xOld0bU5tE0"
      },
      "source": [
        "# Análise da Região Norte"
      ]
    },
    {
      "cell_type": "markdown",
      "metadata": {
        "id": "a_ME6Bwy8eec"
      },
      "source": [
        "##  Realizando o import dos dados"
      ]
    },
    {
      "cell_type": "code",
      "metadata": {
        "id": "0G21w1N16gB9"
      },
      "source": [
        "dados_norte = pd.read_csv('/content/drive/My Drive/Dados_ENEM/Por_Regiao/DadosNorte.csv')"
      ],
      "execution_count": 384,
      "outputs": []
    },
    {
      "cell_type": "markdown",
      "metadata": {
        "id": "Smspb-67MrHT"
      },
      "source": [
        "##Quantidade de inscritos que compareceram a prova por faixa etária"
      ]
    },
    {
      "cell_type": "code",
      "metadata": {
        "id": "wgPV5HwbMvvw",
        "outputId": "dbe9cc71-f002-42bd-d39a-7f3fe436712f",
        "colab": {
          "base_uri": "https://localhost:8080/",
          "height": 0
        }
      },
      "source": [
        "#sns.distplot(dados_norte.dropna(), x=\"NU_IDADE\")\n",
        "dados_norte[\"NU_IDADE\"].dropna().hist()"
      ],
      "execution_count": 385,
      "outputs": [
        {
          "output_type": "execute_result",
          "data": {
            "text/plain": [
              "<matplotlib.axes._subplots.AxesSubplot at 0x7f3e9349b3c8>"
            ]
          },
          "metadata": {
            "tags": []
          },
          "execution_count": 385
        },
        {
          "output_type": "display_data",
          "data": {
            "image/png": "[encoded data removed]",
            "text/plain": [
              "<Figure size 864x864 with 1 Axes>"
            ]
          },
          "metadata": {
            "tags": [],
            "needs_background": "light"
          }
        }
      ]
    },
    {
      "cell_type": "markdown",
      "metadata": {
        "id": "dpEJubMsNzZW"
      },
      "source": [
        "###   Com base na distribução de participantes por faixa etária, vamos separá-los em 4 grandes grupos.\n",
        "* Grupo A - 15-19 anos\n",
        "\n",
        "*  Grupo B - 20-25 anos\n",
        "\n",
        "*  Grupo C - 26-30 anos\n",
        "\n",
        "*  Grupo D - 31-85 anos "
      ]
    },
    {
      "cell_type": "markdown",
      "metadata": {
        "id": "F1pFZTjO53nE"
      },
      "source": [
        "## Quantitativo de alunos que se inscreveram na prova e faltaram. "
      ]
    },
    {
      "cell_type": "code",
      "metadata": {
        "id": "B71VPguB6cl0",
        "outputId": "d89c3122-d50f-4132-ec7e-39ecb4b73be1",
        "colab": {
          "base_uri": "https://localhost:8080/",
          "height": 0
        }
      },
      "source": [
        "notas = [\"NU_NOTA_CN\", \"NU_NOTA_CH\",\"NU_NOTA_LC\",\"NU_NOTA_MT\", \"NU_NOTA_REDACAO\"]\n",
        "notas_norte=dados_norte[notas]\n",
        "presentes_norte = dados_norte.dropna()\n",
        "ausentes_norte = dados_norte.query(\"NU_NOTA_CN == 'NaN' or NU_NOTA_CH == 'NaN' or NU_NOTA_LC == 'NaN' or NU_NOTA_MT == 'NaN'\")\n",
        "# Criando nosso conjunto de dados\n",
        "labels = 'Presentes', 'Ausentes'\n",
        "sizes = [421198, 175671]\n",
        "# Estamos criando a representação, área de plotagem\n",
        "fig1, ax1 = plt.subplots(figsize=(6, 6))\n",
        "# Criando o gráfico\n",
        "ax1.pie(sizes, labels=labels, autopct='%1.1f%%', startangle=90)\n",
        "ax1.axis('equal')\n",
        "# Mostra o gráfico\n",
        "plt.show()\n",
        "\n",
        "\n",
        "\n",
        "\n"
      ],
      "execution_count": 386,
      "outputs": [
        {
          "output_type": "display_data",
          "data": {
            "image/png": "[encoded data removed]",
            "text/plain": [
              "<Figure size 432x432 with 1 Axes>"
            ]
          },
          "metadata": {
            "tags": []
          }
        }
      ]
    },
    {
      "cell_type": "markdown",
      "metadata": {
        "id": "DMeOvOIdErA2"
      },
      "source": [
        "## Análise da falta dos inscritos de acordo com o tipo de escola estudada no ensino médio"
      ]
    },
    {
      "cell_type": "code",
      "metadata": {
        "id": "klVRwARkEyHP",
        "outputId": "cf473c04-fa30-4bda-9210-c5cbdd69cb19",
        "colab": {
          "base_uri": "https://localhost:8080/",
          "height": 0
        }
      },
      "source": [
        "presentes_naoresp = presentes_norte.query('TP_ESCOLA == 1')  # 307726\n",
        "presentes_publica = presentes_norte.query('TP_ESCOLA == 2')  # 102216\n",
        "presentes_privada = presentes_norte.query('TP_ESCOLA == 3')  # 11256\n",
        "ausentes_naoresp  = ausentes_norte.query('TP_ESCOLA == 1')   # 152080\n",
        "ausentes_publica  = ausentes_norte.query('TP_ESCOLA == 2')   # 23120\n",
        "ausentes_privada = ausentes_norte.query('TP_ESCOLA == 3')    #471\n",
        "t = np.arange(0.0, 2.0, 0.01)\n",
        "\n",
        "\n",
        "# Plotando gráfico da escola pública.\n",
        "labels = 'Presentes de escola pública', 'Ausentes de escola pública'\n",
        "sizes = [len(presentes_publica), len(ausentes_publica)]\n",
        "# Estamos criando a representação, área de plotagem\n",
        "fig1, ax1 = plt.subplots(figsize=(6, 6))\n",
        "# Criando o gráfico\n",
        "ax1.pie(sizes, labels=labels, autopct='%1.1f%%', startangle=90)\n",
        "ax1.axis('equal')\n",
        "\n",
        "\n",
        "\n",
        "# Plotando gráfico da escola privada.\n",
        "labels = 'Presentes de escola pública', 'Ausentes de escola pública'\n",
        "sizes = [len(presentes_privada), len(ausentes_privada)]\n",
        "# Estamos criando a representação, área de plotagem\n",
        "fig2, ax2 = plt.subplots(figsize=(6, 6))\n",
        "# Criando o gráfico\n",
        "ax2.pie(sizes, labels=labels, autopct='%1.1f%%', startangle=90)\n",
        "ax2.axis('equal')\n",
        "\n",
        "\n",
        "# Plotando gráfico dos alunos que não informaram a escola que estudaram.\n",
        "labels = 'Presentes sem escola informada', 'Ausentes sem escola informada'\n",
        "sizes = [len(presentes_naoresp), len(ausentes_naoresp)]\n",
        "# Estamos criando a representação, área de plotagem\n",
        "fig3, ax3 = plt.subplots(figsize=(6, 6))\n",
        "# Criando o gráfico\n",
        "ax3.pie(sizes, labels=labels, autopct='%1.1f%%', startangle=90)\n",
        "ax3.axis('equal')\n",
        "# Mostra o gráfico\n",
        "plt.show()\n",
        "\n",
        "\n"
      ],
      "execution_count": 387,
      "outputs": [
        {
          "output_type": "display_data",
          "data": {
            "image/png": "[encoded data removed]",
            "text/plain": [
              "<Figure size 432x432 with 1 Axes>"
            ]
          },
          "metadata": {
            "tags": []
          }
        },
        {
          "output_type": "display_data",
          "data": {
            "image/png": "[encoded data removed]",
            "text/plain": [
              "<Figure size 432x432 with 1 Axes>"
            ]
          },
          "metadata": {
            "tags": []
          }
        },
        {
          "output_type": "display_data",
          "data": {
            "image/png": "[encoded data removed]",
            "text/plain": [
              "<Figure size 432x432 with 1 Axes>"
            ]
          },
          "metadata": {
            "tags": []
          }
        }
      ]
    },
    {
      "cell_type": "markdown",
      "metadata": {
        "id": "xDTTmrwKO4L8"
      },
      "source": [
        "### Com base nos gráfico exibidos acima é possivel afirmar que, os alunos cujos se declararam que cursaram ensino médio em escola privada foram os que menos faltaram as provas do ENEM. Já os que não informaram onde cursaram o ensino médio são os que mais faltaram as provas."
      ]
    },
    {
      "cell_type": "markdown",
      "metadata": {
        "id": "6CPvQrJVQHU7"
      },
      "source": [
        "## Análise das notas dos participantes "
      ]
    },
    {
      "cell_type": "markdown",
      "metadata": {
        "id": "y0oxoYmGW7oK"
      },
      "source": [
        "### Que compareceram a prova de acordo com a escola cujo cursaram ensino médio."
      ]
    },
    {
      "cell_type": "code",
      "metadata": {
        "id": "3vpyfLs6QNgc",
        "outputId": "82a54332-293f-47ab-e256-a96a7c301fd8",
        "colab": {
          "base_uri": "https://localhost:8080/",
          "height": 0
        }
      },
      "source": [
        "media_notas_naoresp  = presentes_naoresp[notas].mean()\n",
        "media_notas_privadas = presentes_privada[notas].mean()\n",
        "media_notas_publicas = presentes_publica[notas].mean()\n",
        "# Gráfico\n",
        "\n",
        "x = np.arange(len(notas))\n",
        "\n",
        "fig, ax = plt.subplots()\n",
        "rects1 = ax.bar(x +0.00 , media_notas_privadas,color = 'tan' ,width=0.2, label='Escolas Privadas')\n",
        "rects2 = ax.bar(x +0.20 , media_notas_naoresp,color= 'navajowhite',  width=0.2, label='Sem escola declarada')\n",
        "rects3 = ax.bar(x +0.40 , media_notas_publicas,color = 'antiquewhite' ,width=0.2, label='Escolas Públicas')\n",
        "ax.set_ylabel('Notas')\n",
        "ax.set_title('Gráfico 4 - Notas médias por tipo de escola estudada')\n",
        "ax.set_xticks(x+0.2)\n",
        "ax.set_xticklabels(['CN', 'CH', 'LC', 'Matemática', 'Redação'])\n",
        "ax.legend()\n",
        "plt.show()\n",
        "\n",
        "percentual_privad_publi = (media_notas_privadas/media_notas_publicas - 1)*100\n",
        "percentual_privad_naoresp = (media_notas_privadas/media_notas_naoresp - 1)*100"
      ],
      "execution_count": 388,
      "outputs": [
        {
          "output_type": "display_data",
          "data": {
            "image/png": "[encoded data removed]",
            "text/plain": [
              "<Figure size 864x864 with 1 Axes>"
            ]
          },
          "metadata": {
            "tags": [],
            "needs_background": "light"
          }
        }
      ]
    },
    {
      "cell_type": "markdown",
      "metadata": {
        "id": "fs60heV_5Cu1"
      },
      "source": [
        "#### Com base nos gráfico acima, é possivel inferir que, os alunos cujos estudaram o ensino médio em escola privada tem uma ampla vantagem sobre os demais alunos.\n",
        "#### Em termos percentuais temos:\n",
        "  ##### Vantagem da nota de quem estudou em escola privada em relação aos que não reclararam onde estudaram:\n",
        "* NU_NOTA_CN:         14.55%\n",
        "* NU_NOTA_CH:         13.61%\n",
        "* NU_NOTA_LC:         10.28%\n",
        "* NU_NOTA_MT:         19.70%\n",
        "* NU_NOTA_REDACAO:    34.06%\n",
        "\n",
        "##### Entre os alunos de escola privada e os de escola pública:\n",
        "* NU_NOTA_CN:         17.82%\n",
        "* NU_NOTA_CH:         17.12%\n",
        "* NU_NOTA_LC:         13.13%\n",
        "* NU_NOTA_MT:         21.85%\n",
        "* NU_NOTA_REDACAO:    36.99%\n",
        "\n",
        "\n",
        "\n",
        "####Fica evidente assim a discrepância entre os alunos que estudam em escola privada de todos os outros alunos no que se refere a média das notas entre eles, pois, em todos os casos os alunos de escola privada foram muito superiores em todos os requisitos."
      ]
    },
    {
      "cell_type": "markdown",
      "metadata": {
        "id": "viC9IZ4RWyfk"
      },
      "source": [
        "### De acordo com a classe social (renda) que compareceram a prova.\n",
        "\n",
        "### O critério utilizado foi o do IBGE que consiste em: \n",
        "* Classe A: mais de 15 salários mínimos;\n",
        "* Classe B: de 5 a 15 salários mínimos;\n",
        "\n",
        "* Classe C: de 3 a 5 salários mínimos;\n",
        "\n",
        "* Classe D: de 1 a 3 salários mínimos;\n",
        "\n",
        "* Classe E: até 1 salário mínimo."
      ]
    },
    {
      "cell_type": "code",
      "metadata": {
        "id": "lsJ1u0hwEdRR",
        "outputId": "a03e6558-900d-4df9-a1b3-641d124754a7",
        "colab": {
          "base_uri": "https://localhost:8080/",
          "height": 0
        }
      },
      "source": [
        "classeA_norte"
      ],
      "execution_count": 389,
      "outputs": [
        {
          "output_type": "execute_result",
          "data": {
            "text/plain": [
              "NU_NOTA_CN         542.336244\n",
              "NU_NOTA_CH         575.595816\n",
              "NU_NOTA_LC         570.825614\n",
              "NU_NOTA_MT         620.458939\n",
              "NU_NOTA_REDACAO    719.941620\n",
              "dtype: float64"
            ]
          },
          "metadata": {
            "tags": []
          },
          "execution_count": 389
        }
      ]
    },
    {
      "cell_type": "code",
      "metadata": {
        "id": "qB0FGssCXOg3",
        "outputId": "0825a4d6-1ac6-4247-c099-69a22a567eda",
        "colab": {
          "base_uri": "https://localhost:8080/",
          "height": 0
        }
      },
      "source": [
        "# Criando o vetor de notas nas competências e a renda do participante.\n",
        "notas_renda = notas.copy()\n",
        "notas_renda.append(\"Q006\")\n",
        "\n",
        "# Criação do filtro das classes\n",
        "classeE = \"Q006 == 'A' or Q006 == 'B'\"\n",
        "classeD = \"Q006 == 'C' or Q006 == 'D' or Q006 == 'E' or Q006 == 'F'\"\n",
        "classeC = \"Q006 == 'G' or Q006 == 'H'\"\n",
        "classeB = \"Q006 == 'I' or Q006 == 'J' or Q006 == 'K' or Q006 == 'L' or Q006 == 'M' or Q006 == 'N' or Q006 == 'O'\"\n",
        "classeA = \"Q006 == 'P' or Q006 == 'Q'\"\n",
        "\n",
        "# Obtenção dos DataFrames com o devido filtro.\n",
        "classeE_norte = dados_norte[notas_renda].query(classeE).dropna().mean()\n",
        "classeD_norte = dados_norte[notas_renda].query(classeD).dropna().mean()\n",
        "classeC_norte = dados_norte[notas_renda].query(classeC).dropna().mean()\n",
        "classeB_norte = dados_norte[notas_renda].query(classeB).dropna().mean()\n",
        "classeA_norte = dados_norte[notas_renda].query(classeA).dropna().mean()\n",
        "\n",
        "#Plot do gráfico\n",
        "plt.rcParams['figure.figsize'] = [10, 10]  # Essa linha que fez a imagem ficar maior\n",
        "fig, ax = plt.subplots()\n",
        "rects1 = ax.bar(x +0.00 , classeA_norte ,color = 'peru' ,width=0.1, label='Classe A')\n",
        "rects2 = ax.bar(x +0.10 , classeB_norte ,color= 'sandybrown',  width=0.1, label='Classe B')\n",
        "rects3 = ax.bar(x +0.20 , classeC_norte ,color = 'orange' ,width=0.1, label='Classe C')\n",
        "rects4 = ax.bar(x +0.30 , classeD_norte ,color = 'navajowhite' ,width=0.1, label='Classe D')\n",
        "rects5 = ax.bar(x +0.40 , classeE_norte,color = 'blanchedalmond' ,width=0.1, label='Classe E')\n",
        "ax.set_ylabel('Notas')\n",
        "#plt.figure(figsize=(10,8))\n",
        "ax.set_title('Gráfico 5 - Notas médias de acordo com a classe social do candidato')\n",
        "ax.set_xticks(x + 0.2)\n",
        "ax.set_xticklabels(['CN', 'CH', 'LC', 'Matemática', 'Redação'])\n",
        "ax.legend(loc=0)\n",
        "plt.show()\n",
        "\n",
        "# Diferença percentual entre a classe A e as demais\n",
        "percentualAE = (classeA_norte/classeE_norte - 1) * 100\n",
        "percentualAD = (classeA_norte/classeD_norte - 1) * 100\n",
        "percentualAC = (classeA_norte/classeC_norte - 1) * 100\n",
        "percentualAB = (classeA_norte/classeB_norte - 1) * 100"
      ],
      "execution_count": 390,
      "outputs": [
        {
          "output_type": "display_data",
          "data": {
            "image/png": "[encoded data removed]",
            "text/plain": [
              "<Figure size 720x720 with 1 Axes>"
            ]
          },
          "metadata": {
            "tags": [],
            "needs_background": "light"
          }
        }
      ]
    },
    {
      "cell_type": "markdown",
      "metadata": {
        "id": "dvyH9FAi4ZwH"
      },
      "source": [
        "#### Analisando o Gráfico 5 é de fácil percepção o quanto os alunos cujo possuem renda superior tiram notas maiores dos que possuem renda inferior. Para termos uma ideia do abismo que existe entre a classe A, e as demais classes vamos analisar a diferença percentual entre eles.\n",
        "\n",
        "Diferença percentual entre as classes A e B: \n",
        "* NU_NOTA_CN:         4.84%\n",
        "* NU_NOTA_CH:         4.50%\n",
        "* NU_NOTA_LC:         3.27%\n",
        "* NU_NOTA_MT:         8.08%\n",
        "* NU_NOTA_REDACAO:    6.91%\n",
        "\n",
        "Diferença percentual entre as classes A e C: \n",
        "* NU_NOTA_CN:         10.44%\n",
        "* NU_NOTA_CH:          9.67%\n",
        "* NU_NOTA_LC::         6.97%\n",
        "* NU_NOTA_MT:         16.12%\n",
        "* NU_NOTA_REDACAO:    15.68%\n",
        "\n",
        "Diferença percentual entre as classes A e D: \n",
        "* NU_NOTA_CN:        18.44%\n",
        "* NU_NOTA_CH:         17.56%\n",
        "* NU_NOTA_LC:         13.05%\n",
        "* NU_NOTA_MT:         27.44%\n",
        "* NU_NOTA_REDACAO:    30.22%\n",
        "\n",
        "A diferença percentual entre as classes A e E : \n",
        "* NU_NOTA_CN:         24.25%\n",
        "* NU_NOTA_CH:         23.51%\n",
        "* NU_NOTA_LC:         18.31%\n",
        "* NU_NOTA_MT:         35.02%\n",
        "* NU_NOTA_REDACAO:    41.79%\n",
        "\n",
        "\n",
        "\n",
        "\n",
        "#### Com esses dados em mão, fica evidente o abismo social existente na região norte do nosso país, ao decorrer da análise desse notebook iremos analisar o que ocorre nas demais regiões do país."
      ]
    },
    {
      "cell_type": "markdown",
      "metadata": {
        "id": "tSADujD8-Bg_"
      },
      "source": [
        "### Com a raça/cor cujo o participante se declara.\n",
        "\n",
        "####Na amostra que foi disponibilizada pelo INEP temos as seguintes raças:\n",
        "* Não declarado\n",
        "* Branca\n",
        "* Preta\n",
        "* Parda\n",
        "* Amarela\n",
        "* Indígena"
      ]
    },
    {
      "cell_type": "code",
      "metadata": {
        "id": "HAH9rsY8-Gkt",
        "outputId": "fa6c55e4-aa53-41f2-a273-a4d71f59c3f5",
        "colab": {
          "base_uri": "https://localhost:8080/",
          "height": 0
        }
      },
      "source": [
        "# Criando o vetor de notas nas competências e raça do participante\n",
        "notas_raca = notas.copy()\n",
        "notas_raca.append(\"TP_COR_RACA\")\n",
        "f1 = 'TP_COR_RACA == 0'\n",
        "# Obtenção dos DataFrames com o devido filtro.\n",
        "nd_norte = dados_norte[notas_raca].query(f1).dropna().mean()\n",
        "branca_norte = dados_norte[notas_raca].query('TP_COR_RACA == 1').dropna().mean()\n",
        "preta_norte = dados_norte[notas_raca].query('TP_COR_RACA == 2').dropna().mean()\n",
        "pardo_norte = dados_norte[notas_raca].query('TP_COR_RACA == 3').dropna().mean()\n",
        "amarela_norte = dados_norte[notas_raca].query('TP_COR_RACA == 4').dropna().mean()\n",
        "indigena_norte = dados_norte[notas_raca].query('TP_COR_RACA == 5').dropna().mean()\n",
        "nd_norte = nd_norte[notas]\n",
        "branca_norte = branca_norte[notas]\n",
        "preta_norte = preta_norte[notas]\n",
        "pardo_norte = pardo_norte[notas]\n",
        "amarela_norte = amarela_norte[notas]\n",
        "indigena_norte = indigena_norte[notas]\n",
        "\n",
        "percentual_branco_nd = (branca_norte/nd_norte - 1)*100\n",
        "percentual_branco_amarelo = (branca_norte/preta_norte - 1)*100\n",
        "percentual_branco_pretos = (branca_norte/pardo_norte - 1 )*100\n",
        "percentual_branco_pardos = (branca_norte/amarela_norte - 1)*100\n",
        "percentual_branco_indigenas = (branca_norte/indigena_norte - 1)*100\n",
        "\n",
        "#Plot do gráfico\n",
        "plt.rcParams['figure.figsize'] = [12, 12]  # Essa linha que fez a imagem ficar maior\n",
        "fig, ax = plt.subplots()\n",
        "rects2 = ax.bar(x +0.00 , branca_norte ,color= 'peru',  width=0.1, label='Brancos')\n",
        "rects1 = ax.bar(x +0.10 , nd_norte     ,color = 'sandybrown' ,width=0.1, label='Sem raça declarada')\n",
        "rects5 = ax.bar(x +0.20 , amarela_norte,color = 'orange' ,width=0.1, label='Amarelos')\n",
        "rects3 = ax.bar(x +0.30 , preta_norte  ,color = 'navajowhite' ,width=0.1, label='Pretos')\n",
        "rects4 = ax.bar(x +0.40 , pardo_norte  ,color = 'moccasin' ,width=0.1, label='Pardos')\n",
        "rects6 = ax.bar(x +0.50 , indigena_norte,color = 'blanchedalmond' ,width=0.1, label='Indigenas')\n",
        "ax.set_ylabel('Notas')\n",
        "#plt.figure(figsize=(10,8))\n",
        "ax.set_title('Gráfico 6 - Notas médias de acordo com a raça declarada pelo candidato')\n",
        "ax.set_xticks(x + 0.2)\n",
        "ax.set_xticklabels(['CN', 'CH', 'LC', 'Matemática', 'Redação'])\n",
        "ax.legend(loc=0)\n",
        "plt.show()\n"
      ],
      "execution_count": 391,
      "outputs": [
        {
          "output_type": "display_data",
          "data": {
            "image/png": "[encoded data removed]",
            "text/plain": [
              "<Figure size 864x864 with 1 Axes>"
            ]
          },
          "metadata": {
            "tags": [],
            "needs_background": "light"
          }
        }
      ]
    },
    {
      "cell_type": "markdown",
      "metadata": {
        "id": "bx7VzAaAIOot"
      },
      "source": [
        "#### Com uma simples análise do Gráfico 6 é possivel observar que, os participantes cujos se declararam brancos possuem uma vantagem em relação aos outros participantes, em dados percentuais temos:\n",
        "\n",
        "\n",
        "\n",
        "> Entre Brancos e Não informados\n",
        "* NU_NOTA_CN:         2.10%\n",
        "* NU_NOTA_CH:         1.83%\n",
        "* NU_NOTA_LC:         1.99%\n",
        "* NU_NOTA_MT:         3.10%\n",
        "* NU_NOTA_REDACAO:    6.27%\n",
        "\n",
        "> Brancos e Amarelos\n",
        "* NU_NOTA_CN:        4.58%\n",
        "* NU_NOTA_CH:        4.25%\n",
        "* NU_NOTA_LC:        3.73%\n",
        "* NU_NOTA_MT:        6.44%\n",
        "* NU_NOTA_REDACAO    7.13%\n",
        "\n",
        "> Brancos e Pretos\n",
        "* NU_NOTA_CN:        4.74%\n",
        "* NU_NOTA_CH:         4.65%\n",
        "* NU_NOTA_LC:         3.98%\n",
        "* NU_NOTA_MT:        6.03%\n",
        "* NU_NOTA_REDACAO:    7.58%\n",
        "\n",
        "> Brancos e Pardos\n",
        "* NU_NOTA_CN:        4.08%\n",
        "* NU_NOTA_CH:        4.36%\n",
        "* NU_NOTA_LC:         2.94%\n",
        "* NU_NOTA_MT:         4.93%\n",
        "* NU_NOTA_REDACAO:    6.55%\n",
        "\n",
        "> Brancos e Indigenas\n",
        "* NU_NOTA_CN:          9.18%\n",
        "* NU_NOTA_CH:          9.64%\n",
        "* NU_NOTA_LC:          9.95%\n",
        "* NU_NOTA_MT:         11.46%\n",
        "* NU_NOTA_REDACAO:    26.14%\n"
      ]
    },
    {
      "cell_type": "markdown",
      "metadata": {
        "id": "zuHbfL_vMFJ5"
      },
      "source": [
        "### Por idade do participante\n",
        "##### Como registrado em sessões anteriores, foram definidas quatro faixas etárias para o estudo\n",
        "* Grupo A - 15-19 anos\n",
        "\n",
        "*  Grupo B - 20-25 anos\n",
        "\n",
        "*  Grupo C - 26-30 anos\n",
        "\n",
        "*  Grupo D - 31-85 anos "
      ]
    },
    {
      "cell_type": "code",
      "metadata": {
        "id": "LUoSqZwsPbai",
        "outputId": "f918667e-2a80-477a-c508-1a56d1fbab36",
        "colab": {
          "base_uri": "https://localhost:8080/",
          "height": 0
        }
      },
      "source": [
        "notas_idade = notas.copy()\n",
        "notas_idade.append(\"NU_IDADE\")\n",
        "grupo_a_norte = dados_norte[notas_idade].query('NU_IDADE <= 19 and NU_IDADE>= 15').dropna().mean()\n",
        "grupo_b_norte = dados_norte[notas_idade].query('NU_IDADE <= 25 and NU_IDADE>= 20').dropna().mean()\n",
        "grupo_c_norte = dados_norte[notas_idade].query('NU_IDADE <= 30 and NU_IDADE>= 26').dropna().mean()\n",
        "grupo_d_norte = dados_norte[notas_idade].query('NU_IDADE <= 85 and NU_IDADE>= 31').dropna().mean()\n",
        "\n",
        "grupo_a_norte = grupo_a_norte[notas]\n",
        "grupo_b_norte = grupo_b_norte[notas]\n",
        "grupo_c_norte = grupo_c_norte[notas]\n",
        "grupo_d_norte = grupo_d_norte[notas]\n",
        "\n",
        "#Plot do gráfico\n",
        "plt.rcParams['figure.figsize'] = [12, 12]  # Essa linha que fez a imagem ficar maior\n",
        "fig, ax = plt.subplots()\n",
        "rects1 = ax.bar(x +0.00 , grupo_a_norte ,color= 'peru',  width=0.1, label='Candidatos entre 15 e 19 anos')\n",
        "rects2 = ax.bar(x +0.10 , grupo_b_norte    ,color = 'sandybrown' ,width=0.1, label='Candidatos entre 20 e 25 anos')\n",
        "rects3 = ax.bar(x +0.20 ,grupo_c_norte,color ='orange'  ,width=0.1, label='Candidatos entre 26 e 30 anos')\n",
        "rects4 = ax.bar(x +0.30 , grupo_d_norte  ,color = 'navajowhite' ,width=0.1, label='Candidatos entre 31 e 85 anos')\n",
        "\n",
        "ax.set_ylabel('Notas')\n",
        "#plt.figure(figsize=(10,8))\n",
        "ax.set_title('Gráfico 6 - Notas médias de acordo com a raça declarada pelo candidato')\n",
        "ax.set_xticks(x + 0.2)\n",
        "ax.set_xticklabels(['CN', 'CH', 'LC', 'Matemática', 'Redação'])\n",
        "ax.legend(loc=0)\n",
        "plt.show()\n"
      ],
      "execution_count": 392,
      "outputs": [
        {
          "output_type": "display_data",
          "data": {
            "image/png": "[encoded data removed]",
            "text/plain": [
              "<Figure size 864x864 with 1 Axes>"
            ]
          },
          "metadata": {
            "tags": [],
            "needs_background": "light"
          }
        }
      ]
    }
  ]
}